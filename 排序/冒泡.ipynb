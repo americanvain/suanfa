{
 "cells": [
  {
   "cell_type": "code",
   "execution_count": 15,
   "metadata": {},
   "outputs": [
    {
     "name": "stdout",
     "output_type": "stream",
     "text": [
      "[1, 2, 4, 5, 8]\n"
     ]
    }
   ],
   "source": [
    "shuzu=[5,1,4,2,8]\n",
    "\n",
    "n = len(shuzu)\n",
    "for i in range(n-1):\n",
    "    for t in range(n-i-1):\n",
    "        if shuzu[t]>shuzu[t+1]:\n",
    "            temp=shuzu[t+1]\n",
    "            shuzu[t+1]=shuzu[t]\n",
    "            shuzu[t]=temp\n",
    "\n",
    "print(shuzu)"
   ]
  }
 ],
 "metadata": {
  "interpreter": {
   "hash": "4abddd77ccc2aa30e9143eb2552a6c46b2dba5009441057f2abf275a6947bae8"
  },
  "kernelspec": {
   "display_name": "Python 3.9.12 ('base')",
   "language": "python",
   "name": "python3"
  },
  "language_info": {
   "codemirror_mode": {
    "name": "ipython",
    "version": 3
   },
   "file_extension": ".py",
   "mimetype": "text/x-python",
   "name": "python",
   "nbconvert_exporter": "python",
   "pygments_lexer": "ipython3",
   "version": "3.9.12"
  },
  "orig_nbformat": 4
 },
 "nbformat": 4,
 "nbformat_minor": 2
}
